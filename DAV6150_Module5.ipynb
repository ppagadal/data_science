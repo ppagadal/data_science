{
  "cells": [
    {
      "cell_type": "markdown",
      "id": "d2005cd7",
      "metadata": {
        "id": "d2005cd7"
      },
      "source": [
        "# <center>DAV 6150 Module 5 Assignment</center>\n",
        "## <center>Understanding Classification Model Performance Metrics</center>\n",
        "\n",
        "##### Karthik Katepally\n",
        "##### Lalitesh Sai Pothukuchi\n",
        "##### Naveen Chowdary Aliveli\n",
        "\n",
        "## Introduction\n",
        "\n",
        "In the field of machine learning, evaluating the performance of classification models is crucial to assess their effectiveness and make informed decisions. Performance evaluation involves calculating various metrics and generating visualizations to understand how well a model performs on a given dataset.\n",
        "\n",
        "In this notebook, we will look into the evaluation of classification model performance. We will develop custom functions to calculate essential performance metrics, such as accuracy, precision, sensitivity (recall), specificity, and F1 Score. Additionally, we will create a function to plot the Receiver Operating Characteristic (ROC) curve and calculate the Area Under the Curve (AUC).\n",
        "\n",
        "The dataset used for this analysis consists of approximately 180 labeled binary observations. Each observation has an actual classification (either '0' or '1') and a predicted classification based on a classification model's probability score. The probability score represents the likelihood of the correct classification being '1'. We will analyze the relationship between the actual and predicted classifications to evaluate the model's performance.\n",
        "\n",
        "The objectives of this notebook are as follows:\n",
        "\n",
        "1. Load the dataset from a GitHub repository.\n",
        "2. Calculate the confusion matrix to assess the performance of the model.\n",
        "3. Extract the individual values from the confusion matrix for later use.\n",
        "4. Develop custom functions to calculate accuracy, precision, sensitivity, specificity, and F1 Score.\n",
        "5. Plot the ROC curve and calculate the AUC using a custom function.\n",
        "6. Compare the results of the custom functions with the pre-built functions provided by the scikit-learn library.\n",
        "7. Compare the results of the custom ROC curve and AUC function with the scikit-learn functions.\n",
        "\n",
        "Through this analysis, we aim to gain a comprehensive understanding of the classification model's performance and compare our custom implementations with the established functions in scikit-learn.\n",
        "\n",
        "Let's begin by loading the dataset and exploring its contents.\n"
      ]
    },
    {
      "cell_type": "code",
      "execution_count": 1,
      "id": "61718eb7",
      "metadata": {
        "id": "61718eb7"
      },
      "outputs": [],
      "source": [
        "# import all the required libraries\n",
        "import numpy as np\n",
        "import pandas as pd\n",
        "import matplotlib.pyplot as plt\n",
        "from sklearn.metrics import roc_curve, auc, accuracy_score, precision_score, recall_score, f1_score"
      ]
    },
    {
      "cell_type": "code",
      "execution_count": 3,
      "id": "ce06fcb5",
      "metadata": {
        "colab": {
          "base_uri": "https://localhost:8080/",
          "height": 206
        },
        "id": "ce06fcb5",
        "outputId": "e114323a-cee7-4157-f16c-853ab6733ea7"
      },
      "outputs": [
        {
          "output_type": "execute_result",
          "data": {
            "text/plain": [
              "   pregnant  glucose  diastolic  skinfold  insulin   bmi  pedigree  age  \\\n",
              "0         7      124         70        33      215  25.5     0.161   37   \n",
              "1         2      122         76        27      200  35.9     0.483   26   \n",
              "2         3      107         62        13       48  22.9     0.678   23   \n",
              "3         1       91         64        24        0  29.2     0.192   21   \n",
              "4         4       83         86        19        0  29.3     0.317   34   \n",
              "\n",
              "   class  scored.class  scored.probability  \n",
              "0      0             0            0.328452  \n",
              "1      0             0            0.273190  \n",
              "2      1             0            0.109660  \n",
              "3      0             0            0.055998  \n",
              "4      0             0            0.100491  "
            ],
            "text/html": [
              "\n",
              "  <div id=\"df-02d07217-f1cc-4078-abd8-9eedf36e64fc\">\n",
              "    <div class=\"colab-df-container\">\n",
              "      <div>\n",
              "<style scoped>\n",
              "    .dataframe tbody tr th:only-of-type {\n",
              "        vertical-align: middle;\n",
              "    }\n",
              "\n",
              "    .dataframe tbody tr th {\n",
              "        vertical-align: top;\n",
              "    }\n",
              "\n",
              "    .dataframe thead th {\n",
              "        text-align: right;\n",
              "    }\n",
              "</style>\n",
              "<table border=\"1\" class=\"dataframe\">\n",
              "  <thead>\n",
              "    <tr style=\"text-align: right;\">\n",
              "      <th></th>\n",
              "      <th>pregnant</th>\n",
              "      <th>glucose</th>\n",
              "      <th>diastolic</th>\n",
              "      <th>skinfold</th>\n",
              "      <th>insulin</th>\n",
              "      <th>bmi</th>\n",
              "      <th>pedigree</th>\n",
              "      <th>age</th>\n",
              "      <th>class</th>\n",
              "      <th>scored.class</th>\n",
              "      <th>scored.probability</th>\n",
              "    </tr>\n",
              "  </thead>\n",
              "  <tbody>\n",
              "    <tr>\n",
              "      <th>0</th>\n",
              "      <td>7</td>\n",
              "      <td>124</td>\n",
              "      <td>70</td>\n",
              "      <td>33</td>\n",
              "      <td>215</td>\n",
              "      <td>25.5</td>\n",
              "      <td>0.161</td>\n",
              "      <td>37</td>\n",
              "      <td>0</td>\n",
              "      <td>0</td>\n",
              "      <td>0.328452</td>\n",
              "    </tr>\n",
              "    <tr>\n",
              "      <th>1</th>\n",
              "      <td>2</td>\n",
              "      <td>122</td>\n",
              "      <td>76</td>\n",
              "      <td>27</td>\n",
              "      <td>200</td>\n",
              "      <td>35.9</td>\n",
              "      <td>0.483</td>\n",
              "      <td>26</td>\n",
              "      <td>0</td>\n",
              "      <td>0</td>\n",
              "      <td>0.273190</td>\n",
              "    </tr>\n",
              "    <tr>\n",
              "      <th>2</th>\n",
              "      <td>3</td>\n",
              "      <td>107</td>\n",
              "      <td>62</td>\n",
              "      <td>13</td>\n",
              "      <td>48</td>\n",
              "      <td>22.9</td>\n",
              "      <td>0.678</td>\n",
              "      <td>23</td>\n",
              "      <td>1</td>\n",
              "      <td>0</td>\n",
              "      <td>0.109660</td>\n",
              "    </tr>\n",
              "    <tr>\n",
              "      <th>3</th>\n",
              "      <td>1</td>\n",
              "      <td>91</td>\n",
              "      <td>64</td>\n",
              "      <td>24</td>\n",
              "      <td>0</td>\n",
              "      <td>29.2</td>\n",
              "      <td>0.192</td>\n",
              "      <td>21</td>\n",
              "      <td>0</td>\n",
              "      <td>0</td>\n",
              "      <td>0.055998</td>\n",
              "    </tr>\n",
              "    <tr>\n",
              "      <th>4</th>\n",
              "      <td>4</td>\n",
              "      <td>83</td>\n",
              "      <td>86</td>\n",
              "      <td>19</td>\n",
              "      <td>0</td>\n",
              "      <td>29.3</td>\n",
              "      <td>0.317</td>\n",
              "      <td>34</td>\n",
              "      <td>0</td>\n",
              "      <td>0</td>\n",
              "      <td>0.100491</td>\n",
              "    </tr>\n",
              "  </tbody>\n",
              "</table>\n",
              "</div>\n",
              "      <button class=\"colab-df-convert\" onclick=\"convertToInteractive('df-02d07217-f1cc-4078-abd8-9eedf36e64fc')\"\n",
              "              title=\"Convert this dataframe to an interactive table.\"\n",
              "              style=\"display:none;\">\n",
              "        \n",
              "  <svg xmlns=\"http://www.w3.org/2000/svg\" height=\"24px\"viewBox=\"0 0 24 24\"\n",
              "       width=\"24px\">\n",
              "    <path d=\"M0 0h24v24H0V0z\" fill=\"none\"/>\n",
              "    <path d=\"M18.56 5.44l.94 2.06.94-2.06 2.06-.94-2.06-.94-.94-2.06-.94 2.06-2.06.94zm-11 1L8.5 8.5l.94-2.06 2.06-.94-2.06-.94L8.5 2.5l-.94 2.06-2.06.94zm10 10l.94 2.06.94-2.06 2.06-.94-2.06-.94-.94-2.06-.94 2.06-2.06.94z\"/><path d=\"M17.41 7.96l-1.37-1.37c-.4-.4-.92-.59-1.43-.59-.52 0-1.04.2-1.43.59L10.3 9.45l-7.72 7.72c-.78.78-.78 2.05 0 2.83L4 21.41c.39.39.9.59 1.41.59.51 0 1.02-.2 1.41-.59l7.78-7.78 2.81-2.81c.8-.78.8-2.07 0-2.86zM5.41 20L4 18.59l7.72-7.72 1.47 1.35L5.41 20z\"/>\n",
              "  </svg>\n",
              "      </button>\n",
              "      \n",
              "  <style>\n",
              "    .colab-df-container {\n",
              "      display:flex;\n",
              "      flex-wrap:wrap;\n",
              "      gap: 12px;\n",
              "    }\n",
              "\n",
              "    .colab-df-convert {\n",
              "      background-color: #E8F0FE;\n",
              "      border: none;\n",
              "      border-radius: 50%;\n",
              "      cursor: pointer;\n",
              "      display: none;\n",
              "      fill: #1967D2;\n",
              "      height: 32px;\n",
              "      padding: 0 0 0 0;\n",
              "      width: 32px;\n",
              "    }\n",
              "\n",
              "    .colab-df-convert:hover {\n",
              "      background-color: #E2EBFA;\n",
              "      box-shadow: 0px 1px 2px rgba(60, 64, 67, 0.3), 0px 1px 3px 1px rgba(60, 64, 67, 0.15);\n",
              "      fill: #174EA6;\n",
              "    }\n",
              "\n",
              "    [theme=dark] .colab-df-convert {\n",
              "      background-color: #3B4455;\n",
              "      fill: #D2E3FC;\n",
              "    }\n",
              "\n",
              "    [theme=dark] .colab-df-convert:hover {\n",
              "      background-color: #434B5C;\n",
              "      box-shadow: 0px 1px 3px 1px rgba(0, 0, 0, 0.15);\n",
              "      filter: drop-shadow(0px 1px 2px rgba(0, 0, 0, 0.3));\n",
              "      fill: #FFFFFF;\n",
              "    }\n",
              "  </style>\n",
              "\n",
              "      <script>\n",
              "        const buttonEl =\n",
              "          document.querySelector('#df-02d07217-f1cc-4078-abd8-9eedf36e64fc button.colab-df-convert');\n",
              "        buttonEl.style.display =\n",
              "          google.colab.kernel.accessAllowed ? 'block' : 'none';\n",
              "\n",
              "        async function convertToInteractive(key) {\n",
              "          const element = document.querySelector('#df-02d07217-f1cc-4078-abd8-9eedf36e64fc');\n",
              "          const dataTable =\n",
              "            await google.colab.kernel.invokeFunction('convertToInteractive',\n",
              "                                                     [key], {});\n",
              "          if (!dataTable) return;\n",
              "\n",
              "          const docLinkHtml = 'Like what you see? Visit the ' +\n",
              "            '<a target=\"_blank\" href=https://colab.research.google.com/notebooks/data_table.ipynb>data table notebook</a>'\n",
              "            + ' to learn more about interactive tables.';\n",
              "          element.innerHTML = '';\n",
              "          dataTable['output_type'] = 'display_data';\n",
              "          await google.colab.output.renderOutput(dataTable, element);\n",
              "          const docLink = document.createElement('div');\n",
              "          docLink.innerHTML = docLinkHtml;\n",
              "          element.appendChild(docLink);\n",
              "        }\n",
              "      </script>\n",
              "    </div>\n",
              "  </div>\n",
              "  "
            ]
          },
          "metadata": {},
          "execution_count": 3
        }
      ],
      "source": [
        "# Assuming you have the M5_Data.csv file uploaded to your GitHub repository\n",
        "url = 'https://raw.githubusercontent.com/ppagadal/data_science/main/M5_Data.csv'\n",
        "\n",
        "# Read the data into a Pandas dataframe\n",
        "df = pd.read_csv(url)\n",
        "df.head()"
      ]
    },
    {
      "cell_type": "markdown",
      "id": "1facac6a",
      "metadata": {
        "id": "1facac6a"
      },
      "source": [
        "## Confusion Matrix\n",
        "In this step, we will calculate the contents of a confusion matrix using Pandas' crosstab() function."
      ]
    },
    {
      "cell_type": "code",
      "execution_count": 4,
      "id": "37061016",
      "metadata": {
        "colab": {
          "base_uri": "https://localhost:8080/",
          "height": 143
        },
        "id": "37061016",
        "outputId": "cca7a825-bcdd-415f-e571-baa01e7b697c"
      },
      "outputs": [
        {
          "output_type": "execute_result",
          "data": {
            "text/plain": [
              "scored.class    0   1\n",
              "class                \n",
              "0             119   5\n",
              "1              30  27"
            ],
            "text/html": [
              "\n",
              "  <div id=\"df-a4713fce-9173-4f14-94a5-83119caecb57\">\n",
              "    <div class=\"colab-df-container\">\n",
              "      <div>\n",
              "<style scoped>\n",
              "    .dataframe tbody tr th:only-of-type {\n",
              "        vertical-align: middle;\n",
              "    }\n",
              "\n",
              "    .dataframe tbody tr th {\n",
              "        vertical-align: top;\n",
              "    }\n",
              "\n",
              "    .dataframe thead th {\n",
              "        text-align: right;\n",
              "    }\n",
              "</style>\n",
              "<table border=\"1\" class=\"dataframe\">\n",
              "  <thead>\n",
              "    <tr style=\"text-align: right;\">\n",
              "      <th>scored.class</th>\n",
              "      <th>0</th>\n",
              "      <th>1</th>\n",
              "    </tr>\n",
              "    <tr>\n",
              "      <th>class</th>\n",
              "      <th></th>\n",
              "      <th></th>\n",
              "    </tr>\n",
              "  </thead>\n",
              "  <tbody>\n",
              "    <tr>\n",
              "      <th>0</th>\n",
              "      <td>119</td>\n",
              "      <td>5</td>\n",
              "    </tr>\n",
              "    <tr>\n",
              "      <th>1</th>\n",
              "      <td>30</td>\n",
              "      <td>27</td>\n",
              "    </tr>\n",
              "  </tbody>\n",
              "</table>\n",
              "</div>\n",
              "      <button class=\"colab-df-convert\" onclick=\"convertToInteractive('df-a4713fce-9173-4f14-94a5-83119caecb57')\"\n",
              "              title=\"Convert this dataframe to an interactive table.\"\n",
              "              style=\"display:none;\">\n",
              "        \n",
              "  <svg xmlns=\"http://www.w3.org/2000/svg\" height=\"24px\"viewBox=\"0 0 24 24\"\n",
              "       width=\"24px\">\n",
              "    <path d=\"M0 0h24v24H0V0z\" fill=\"none\"/>\n",
              "    <path d=\"M18.56 5.44l.94 2.06.94-2.06 2.06-.94-2.06-.94-.94-2.06-.94 2.06-2.06.94zm-11 1L8.5 8.5l.94-2.06 2.06-.94-2.06-.94L8.5 2.5l-.94 2.06-2.06.94zm10 10l.94 2.06.94-2.06 2.06-.94-2.06-.94-.94-2.06-.94 2.06-2.06.94z\"/><path d=\"M17.41 7.96l-1.37-1.37c-.4-.4-.92-.59-1.43-.59-.52 0-1.04.2-1.43.59L10.3 9.45l-7.72 7.72c-.78.78-.78 2.05 0 2.83L4 21.41c.39.39.9.59 1.41.59.51 0 1.02-.2 1.41-.59l7.78-7.78 2.81-2.81c.8-.78.8-2.07 0-2.86zM5.41 20L4 18.59l7.72-7.72 1.47 1.35L5.41 20z\"/>\n",
              "  </svg>\n",
              "      </button>\n",
              "      \n",
              "  <style>\n",
              "    .colab-df-container {\n",
              "      display:flex;\n",
              "      flex-wrap:wrap;\n",
              "      gap: 12px;\n",
              "    }\n",
              "\n",
              "    .colab-df-convert {\n",
              "      background-color: #E8F0FE;\n",
              "      border: none;\n",
              "      border-radius: 50%;\n",
              "      cursor: pointer;\n",
              "      display: none;\n",
              "      fill: #1967D2;\n",
              "      height: 32px;\n",
              "      padding: 0 0 0 0;\n",
              "      width: 32px;\n",
              "    }\n",
              "\n",
              "    .colab-df-convert:hover {\n",
              "      background-color: #E2EBFA;\n",
              "      box-shadow: 0px 1px 2px rgba(60, 64, 67, 0.3), 0px 1px 3px 1px rgba(60, 64, 67, 0.15);\n",
              "      fill: #174EA6;\n",
              "    }\n",
              "\n",
              "    [theme=dark] .colab-df-convert {\n",
              "      background-color: #3B4455;\n",
              "      fill: #D2E3FC;\n",
              "    }\n",
              "\n",
              "    [theme=dark] .colab-df-convert:hover {\n",
              "      background-color: #434B5C;\n",
              "      box-shadow: 0px 1px 3px 1px rgba(0, 0, 0, 0.15);\n",
              "      filter: drop-shadow(0px 1px 2px rgba(0, 0, 0, 0.3));\n",
              "      fill: #FFFFFF;\n",
              "    }\n",
              "  </style>\n",
              "\n",
              "      <script>\n",
              "        const buttonEl =\n",
              "          document.querySelector('#df-a4713fce-9173-4f14-94a5-83119caecb57 button.colab-df-convert');\n",
              "        buttonEl.style.display =\n",
              "          google.colab.kernel.accessAllowed ? 'block' : 'none';\n",
              "\n",
              "        async function convertToInteractive(key) {\n",
              "          const element = document.querySelector('#df-a4713fce-9173-4f14-94a5-83119caecb57');\n",
              "          const dataTable =\n",
              "            await google.colab.kernel.invokeFunction('convertToInteractive',\n",
              "                                                     [key], {});\n",
              "          if (!dataTable) return;\n",
              "\n",
              "          const docLinkHtml = 'Like what you see? Visit the ' +\n",
              "            '<a target=\"_blank\" href=https://colab.research.google.com/notebooks/data_table.ipynb>data table notebook</a>'\n",
              "            + ' to learn more about interactive tables.';\n",
              "          element.innerHTML = '';\n",
              "          dataTable['output_type'] = 'display_data';\n",
              "          await google.colab.output.renderOutput(dataTable, element);\n",
              "          const docLink = document.createElement('div');\n",
              "          docLink.innerHTML = docLinkHtml;\n",
              "          element.appendChild(docLink);\n",
              "        }\n",
              "      </script>\n",
              "    </div>\n",
              "  </div>\n",
              "  "
            ]
          },
          "metadata": {},
          "execution_count": 4
        }
      ],
      "source": [
        "# Assuming 'class' represents the actual classification and 'scored.class' represents the predicted classification\n",
        "confusion_matrix = pd.crosstab(df['class'], df['scored.class'])\n",
        "confusion_matrix"
      ]
    },
    {
      "cell_type": "markdown",
      "id": "8ab8d569",
      "metadata": {
        "id": "8ab8d569"
      },
      "source": [
        "In the given confusion matrix, the rows represent the actual classifications, while the columns represent the predicted classifications. Looking at the values in the rows and columns, we can see that the row labeled '0' represents the actual class 0, and it has a total count of 124 (119 + 5). Similarly, the row labeled '1' represents the actual class 1, and it has a total count of 57 (30 + 27). By examining the columns, we can observe that the column labeled '0' represents the predicted class 0, and it has a total count of 149 (119 + 30). The column labeled '1' represents the predicted class 1, and it has a total count of 32 (5 + 27). The values within the cells of the confusion matrix represent the count of observations that fall into each combination of actual and predicted classifications.\n",
        "\n",
        "## Extract Confusion Matrix Values\n",
        "In this step, we will extract the individual confusion matrix values (True Positive, False Positive, True Negative, False Negative) from the output of the crosstab() function and save them for later use."
      ]
    },
    {
      "cell_type": "code",
      "execution_count": null,
      "id": "4b4d39ab",
      "metadata": {
        "id": "4b4d39ab"
      },
      "outputs": [],
      "source": [
        "true_positive = confusion_matrix[1][1]\n",
        "false_positive = confusion_matrix[0][1]\n",
        "true_negative = confusion_matrix[0][0]\n",
        "false_negative = confusion_matrix[1][0]"
      ]
    },
    {
      "cell_type": "markdown",
      "id": "2d369fa4",
      "metadata": {
        "id": "2d369fa4"
      },
      "source": [
        "## Accuracy Metric\n",
        "In this step, we will write a Python function to calculate the accuracy metric for binary classification data. Then, we will apply the function to the relevant columns of the dataset later."
      ]
    },
    {
      "cell_type": "code",
      "execution_count": null,
      "id": "1dbd76fd",
      "metadata": {
        "id": "1dbd76fd"
      },
      "outputs": [],
      "source": [
        "def calculate_accuracy(actual, predicted):\n",
        "    correct_predictions = sum(actual == predicted)\n",
        "    total_predictions = len(actual)\n",
        "    accuracy = correct_predictions / total_predictions\n",
        "    return accuracy"
      ]
    },
    {
      "cell_type": "markdown",
      "id": "bf63f7e3",
      "metadata": {
        "id": "bf63f7e3"
      },
      "source": [
        "## Precision Metric\n",
        "We'll write a Python function to calculate the precision metric for binary classification data. Then, we will apply the function to the relevant columns of the dataset later."
      ]
    },
    {
      "cell_type": "code",
      "execution_count": null,
      "id": "f55c3116",
      "metadata": {
        "id": "f55c3116"
      },
      "outputs": [],
      "source": [
        "def calculate_precision(actual, predicted):\n",
        "    true_positive = sum((actual == 1) & (predicted == 1))\n",
        "    false_positive = sum((actual == 0) & (predicted == 1))\n",
        "    precision = true_positive / (true_positive + false_positive)\n",
        "    return precision"
      ]
    },
    {
      "cell_type": "markdown",
      "id": "7e595f8d",
      "metadata": {
        "id": "7e595f8d"
      },
      "source": [
        "## Sensitivity Metric (Recall)\n",
        "We'll write a Python function to calculate the sensitivity (recall) metric for binary classification data."
      ]
    },
    {
      "cell_type": "code",
      "execution_count": null,
      "id": "bb87d631",
      "metadata": {
        "id": "bb87d631"
      },
      "outputs": [],
      "source": [
        "def calculate_sensitivity(actual, predicted):\n",
        "    true_positive = sum((actual == 1) & (predicted == 1))\n",
        "    false_negative = sum((actual == 1) & (predicted == 0))\n",
        "    sensitivity = true_positive / (true_positive + false_negative)\n",
        "    return sensitivity"
      ]
    },
    {
      "cell_type": "markdown",
      "id": "e5fd7cea",
      "metadata": {
        "id": "e5fd7cea"
      },
      "source": [
        "## Specificity Metric\n",
        "In this step, we will write a Python function to calculate the specificity metric for binary classification data."
      ]
    },
    {
      "cell_type": "code",
      "execution_count": null,
      "id": "34fd9056",
      "metadata": {
        "id": "34fd9056"
      },
      "outputs": [],
      "source": [
        "def calculate_specificity(actual, predicted):\n",
        "    true_negative = sum((actual == 0) & (predicted == 0))\n",
        "    false_positive = sum((actual == 0) & (predicted == 1))\n",
        "    specificity = true_negative / (true_negative + false_positive)\n",
        "    return specificity"
      ]
    },
    {
      "cell_type": "markdown",
      "id": "d9cfde70",
      "metadata": {
        "id": "d9cfde70"
      },
      "source": [
        "## F1 Score Metric\n",
        "In this step, we will write a Python function to calculate the F1 Score metric for binary classification data."
      ]
    },
    {
      "cell_type": "code",
      "execution_count": null,
      "id": "46d71344",
      "metadata": {
        "id": "46d71344"
      },
      "outputs": [],
      "source": [
        "def calculate_f1_score(actual, predicted):\n",
        "    true_positive = sum((actual == 1) & (predicted == 1))\n",
        "    false_positive = sum((actual == 0) & (predicted == 1))\n",
        "    false_negative = sum((actual == 1) & (predicted == 0))\n",
        "    f1_score = (2 * true_positive) / (2 * true_positive + false_positive + false_negative)\n",
        "    return f1_score"
      ]
    },
    {
      "cell_type": "markdown",
      "id": "f40b5df3",
      "metadata": {
        "id": "f40b5df3"
      },
      "source": [
        "## ROC Curve and AUC\n",
        "In this step, we will write a Python function to plot an ROC curve and calculate the AUC for binary classification data. Then, we will apply the function to the relevant columns of the dataset later."
      ]
    },
    {
      "cell_type": "code",
      "execution_count": null,
      "id": "b90fa80c",
      "metadata": {
        "id": "b90fa80c"
      },
      "outputs": [],
      "source": [
        "def plot_roc_curve(actual, predicted_probs):\n",
        "    # Sort the predicted probabilities and corresponding actual values in descending order\n",
        "    sorted_probs = np.array(sorted(zip(predicted_probs, actual), reverse=True))\n",
        "    sorted_actual = sorted_probs[:, 1]\n",
        "    sorted_predicted_probs = sorted_probs[:, 0]\n",
        "\n",
        "    # Calculate the true positive rate (TPR) and false positive rate (FPR)\n",
        "    tpr = [0]\n",
        "    fpr = [0]\n",
        "    num_positives = sum(sorted_actual)\n",
        "    num_negatives = len(sorted_actual) - num_positives\n",
        "\n",
        "    for i in range(len(sorted_actual)):\n",
        "        if sorted_actual[i] == 1:\n",
        "            tpr.append(tpr[-1] + 1/num_positives)\n",
        "            fpr.append(fpr[-1])\n",
        "        else:\n",
        "            tpr.append(tpr[-1])\n",
        "            fpr.append(fpr[-1] + 1/num_negatives)\n",
        "\n",
        "    # Calculate the AUC using the trapezoidal rule\n",
        "    auc = np.trapz(tpr, fpr)\n",
        "\n",
        "    # Plot the ROC curve\n",
        "    plt.plot(fpr, tpr, color='darkorange', lw=2, label='ROC curve (AUC = %0.2f)' % auc)\n",
        "    plt.plot([0, 1], [0, 1], color='navy', lw=2, linestyle='--')\n",
        "    plt.xlim([0.0, 1.0])\n",
        "    plt.ylim([0.0, 1.05])\n",
        "    plt.xlabel('False Positive Rate')\n",
        "    plt.ylabel('True Positive Rate')\n",
        "    plt.title('Receiver Operating Characteristic')\n",
        "    plt.legend(loc=\"lower right\")\n",
        "    plt.show()\n",
        "\n",
        "    return auc\n"
      ]
    },
    {
      "cell_type": "markdown",
      "id": "7e8c7d57",
      "metadata": {
        "id": "7e8c7d57"
      },
      "source": [
        "## Results of Custom Functions\n",
        "\n",
        "Here we'll look into the output of the custom we just prepared before."
      ]
    },
    {
      "cell_type": "code",
      "execution_count": null,
      "id": "e1558f11",
      "metadata": {
        "id": "e1558f11",
        "outputId": "eb757ce9-664d-4a25-e6e2-ee90a347eb86"
      },
      "outputs": [
        {
          "name": "stdout",
          "output_type": "stream",
          "text": [
            "Custom Accuracy: 0.8066298342541437\n",
            "Custom Precision: 0.84375\n",
            "Custom Sensitivity: 0.47368421052631576\n",
            "Specificity: 0.9596774193548387\n",
            "Custom F1 Score: 0.6067415730337079\n"
          ]
        }
      ],
      "source": [
        "actual = df['class']\n",
        "predicted = df['scored.class']\n",
        "\n",
        "custom_accuracy = calculate_accuracy(actual, predicted)\n",
        "print(\"Custom Accuracy:\", custom_accuracy)\n",
        "\n",
        "custom_precision = calculate_precision(actual, predicted)\n",
        "print(\"Custom Precision:\", custom_precision)\n",
        "\n",
        "custom_sensitivity = calculate_sensitivity(actual, predicted)\n",
        "print(\"Custom Sensitivity:\", custom_sensitivity)\n",
        "\n",
        "specificity = calculate_specificity(actual, predicted)\n",
        "print(\"Specificity:\", specificity)\n",
        "\n",
        "custom_f1_score = calculate_f1_score(actual, predicted)\n",
        "print(\"Custom F1 Score:\", custom_f1_score)"
      ]
    },
    {
      "cell_type": "markdown",
      "id": "9672f5ff",
      "metadata": {
        "id": "9672f5ff"
      },
      "source": [
        "## Comparison with Scikit-learn Functions\n",
        "\n",
        "We'll proceed to calculate the output of the metrics using inbuilt Scikit-learn Functions"
      ]
    },
    {
      "cell_type": "code",
      "execution_count": null,
      "id": "8a349e88",
      "metadata": {
        "id": "8a349e88",
        "outputId": "071a9a17-cd00-4742-b5d5-02a136a7bd02"
      },
      "outputs": [
        {
          "name": "stdout",
          "output_type": "stream",
          "text": [
            "Scikit-learn Accuracy: 0.8066298342541437\n",
            "Scikit-learn Precision: 0.84375\n",
            "Scikit-learn Sensitivity: 0.47368421052631576\n",
            "Scikit-learn F1 Score: 0.6067415730337079\n"
          ]
        }
      ],
      "source": [
        "sklearn_accuracy = accuracy_score(actual, predicted)\n",
        "print(\"Scikit-learn Accuracy:\", sklearn_accuracy)\n",
        "\n",
        "sklearn_precision = precision_score(actual, predicted)\n",
        "print(\"Scikit-learn Precision:\", sklearn_precision)\n",
        "\n",
        "sklearn_sensitivity = recall_score(actual, predicted)\n",
        "print(\"Scikit-learn Sensitivity:\", sklearn_sensitivity)\n",
        "\n",
        "sklearn_f1_score = f1_score(actual, predicted)\n",
        "print(\"Scikit-learn F1 Score:\", sklearn_f1_score)"
      ]
    },
    {
      "cell_type": "markdown",
      "id": "0c8c4d58",
      "metadata": {
        "id": "0c8c4d58"
      },
      "source": [
        "Based on the comparison between the custom functions and the pre-built functions from Scikit-learn, it is evident that they yield similar results.\n",
        "\n",
        "## ROC Curve and AUC Comparison"
      ]
    },
    {
      "cell_type": "code",
      "execution_count": null,
      "id": "bc1704e3",
      "metadata": {
        "id": "bc1704e3",
        "outputId": "baa2e705-c9a5-4960-b906-9b3903917456"
      },
      "outputs": [
        {
          "data": {
            "image/png": "[encoded data removed]",
            "text/plain": [
              "<Figure size 640x480 with 1 Axes>"
            ]
          },
          "metadata": {},
          "output_type": "display_data"
        },
        {
          "name": "stdout",
          "output_type": "stream",
          "text": [
            "Custom AUC: 0.8503112620260332\n",
            "Scikit-learn AUC: 0.8503112620260327\n"
          ]
        }
      ],
      "source": [
        "predicted_probs = df['scored.probability']\n",
        "\n",
        "custom_roc_auc = plot_roc_curve(actual, predicted_probs)\n",
        "sklearn_fpr, sklearn_tpr, _ = roc_curve(actual, predicted_probs)\n",
        "sklearn_roc_auc = auc(sklearn_fpr, sklearn_tpr)\n",
        "\n",
        "print(\"Custom AUC:\", custom_roc_auc)\n",
        "print(\"Scikit-learn AUC:\", sklearn_roc_auc)"
      ]
    },
    {
      "cell_type": "markdown",
      "id": "32d2b963",
      "metadata": {
        "id": "32d2b963"
      },
      "source": [
        "The custom AUC (Area Under the Curve) value is 0.8503112620260332, while the Scikit-learn AUC value is 0.8503112620260327. The two AUC values are very close, differing only in the last decimal place. This indicates that the custom implementation of the ROC curve and AUC calculation produces results consistent with the pre-built function from Scikit-learn. Therefore, the custom function can be considered reliable and accurate in evaluating the performance of binary classification models."
      ]
    },
    {
      "cell_type": "markdown",
      "id": "89972b29",
      "metadata": {
        "id": "89972b29"
      },
      "source": [
        "## Conclusion\n",
        "\n",
        "In this notebook, we have explored the evaluation of classification model performance. We developed custom functions to calculate essential performance metrics such as accuracy, precision, sensitivity, specificity, and F1 Score. Additionally, we created a custom function to plot the Receiver Operating Characteristic (ROC) curve and calculate the Area Under the Curve (AUC).\n",
        "\n",
        "By applying these custom functions to the provided dataset, we were able to assess the performance of the classification model. The results obtained from the custom functions were compared with the pre-built functions available in the scikit-learn library. We observed that the results from the custom functions closely matched those from the established functions, validating the accuracy and reliability of our custom implementations.\n",
        "\n",
        "Furthermore, the custom ROC curve function successfully plotted the ROC curve and calculated the AUC. The AUC value obtained from our custom function closely matched the AUC calculated using the pre-built functions from scikit-learn.\n",
        "\n",
        "Through this analysis, we have demonstrated the importance of performance evaluation in classification models and showcased the effectiveness of custom implementations in calculating performance metrics and generating evaluation graphics. These custom functions provide a flexible and reliable way to assess the performance of binary classification models without relying on pre-built functions."
      ]
    },
    {
      "cell_type": "code",
      "execution_count": null,
      "id": "7cb89537",
      "metadata": {
        "id": "7cb89537"
      },
      "outputs": [],
      "source": []
    }
  ],
  "metadata": {
    "kernelspec": {
      "display_name": "Python 3 (ipykernel)",
      "language": "python",
      "name": "python3"
    },
    "language_info": {
      "codemirror_mode": {
        "name": "ipython",
        "version": 3
      },
      "file_extension": ".py",
      "mimetype": "text/x-python",
      "name": "python",
      "nbconvert_exporter": "python",
      "pygments_lexer": "ipython3",
      "version": "3.10.11"
    },
    "colab": {
      "provenance": []
    }
  },
  "nbformat": 4,
  "nbformat_minor": 5
}